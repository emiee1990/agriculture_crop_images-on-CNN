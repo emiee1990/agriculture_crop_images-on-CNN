{
 "cells": [
  {
   "cell_type": "code",
   "execution_count": 1,
   "metadata": {
    "_cell_guid": "b1076dfc-b9ad-4769-8c92-a6c4dae69d19",
    "_uuid": "8f2839f25d086af736a60e9eeb907d3b93b6e0e5",
    "execution": {
     "iopub.execute_input": "2022-09-17T03:44:19.683868Z",
     "iopub.status.busy": "2022-09-17T03:44:19.681496Z",
     "iopub.status.idle": "2022-09-17T03:44:19.710172Z",
     "shell.execute_reply": "2022-09-17T03:44:19.709370Z",
     "shell.execute_reply.started": "2022-09-17T03:44:19.683766Z"
    }
   },
   "outputs": [],
   "source": [
    "# This Python 3 environment comes with many helpful analytics libraries installed\n",
    "# It is defined by the kaggle/python Docker image: https://github.com/kaggle/docker-python\n",
    "# For example, here's several helpful packages to load\n",
    "\n",
    "import numpy as np # linear algebra\n",
    "import pandas as pd # data processing, CSV file I/O (e.g. pd.read_csv)\n",
    "\n",
    "# Input data files are available in the read-only \"../input/\" directory\n",
    "# For example, running this (by clicking run or pressing Shift+Enter) will list all files under the input directory\n",
    "\n",
    "# import os\n",
    "# for dirname, _, filenames in os.walk('/kaggle/input'):\n",
    "#     for filename in filenames:\n",
    "#         print(os.path.join(dirname, filename))\n",
    "\n",
    "# You can write up to 20GB to the current directory (/kaggle/working/) that gets preserved as output when you create a version using \"Save & Run All\" \n",
    "# You can also write temporary files to /kaggle/temp/, but they won't be saved outside of the current session"
   ]
  },
  {
   "cell_type": "code",
   "execution_count": 2,
   "metadata": {
    "execution": {
     "iopub.execute_input": "2022-09-17T03:44:19.712203Z",
     "iopub.status.busy": "2022-09-17T03:44:19.711344Z",
     "iopub.status.idle": "2022-09-17T03:44:19.717248Z",
     "shell.execute_reply": "2022-09-17T03:44:19.715837Z",
     "shell.execute_reply.started": "2022-09-17T03:44:19.712165Z"
    }
   },
   "outputs": [],
   "source": [
    " import os"
   ]
  },
  {
   "cell_type": "code",
   "execution_count": 3,
   "metadata": {
    "execution": {
     "iopub.execute_input": "2022-09-17T03:44:19.720687Z",
     "iopub.status.busy": "2022-09-17T03:44:19.720148Z",
     "iopub.status.idle": "2022-09-17T03:44:19.733265Z",
     "shell.execute_reply": "2022-09-17T03:44:19.732202Z",
     "shell.execute_reply.started": "2022-09-17T03:44:19.720652Z"
    }
   },
   "outputs": [],
   "source": [
    "# Importing crop images from location.\n",
    "\n",
    "filename = os.listdir('../input/agriculture-crop-images/')"
   ]
  },
  {
   "cell_type": "code",
   "execution_count": 4,
   "metadata": {
    "execution": {
     "iopub.execute_input": "2022-09-17T03:44:19.736296Z",
     "iopub.status.busy": "2022-09-17T03:44:19.736049Z",
     "iopub.status.idle": "2022-09-17T03:44:25.735839Z",
     "shell.execute_reply": "2022-09-17T03:44:25.734866Z",
     "shell.execute_reply.started": "2022-09-17T03:44:19.736272Z"
    }
   },
   "outputs": [],
   "source": [
    "# Importing tensorflow for image procesing\n",
    "\n",
    "from tensorflow.keras.preprocessing.image import ImageDataGenerator"
   ]
  },
  {
   "cell_type": "code",
   "execution_count": 5,
   "metadata": {
    "execution": {
     "iopub.execute_input": "2022-09-17T03:44:25.738451Z",
     "iopub.status.busy": "2022-09-17T03:44:25.737221Z",
     "iopub.status.idle": "2022-09-17T03:44:25.744034Z",
     "shell.execute_reply": "2022-09-17T03:44:25.743046Z",
     "shell.execute_reply.started": "2022-09-17T03:44:25.738413Z"
    }
   },
   "outputs": [],
   "source": [
    "# Data generation and formatting the data.\n",
    "\n",
    "data_gen = ImageDataGenerator(zoom_range= 0.2, shear_range= 0.2,\n",
    "                             horizontal_flip = True,\n",
    "                             rescale = 1/255)"
   ]
  },
  {
   "cell_type": "code",
   "execution_count": 6,
   "metadata": {
    "execution": {
     "iopub.execute_input": "2022-09-17T03:44:25.745909Z",
     "iopub.status.busy": "2022-09-17T03:44:25.745307Z",
     "iopub.status.idle": "2022-09-17T03:44:26.290491Z",
     "shell.execute_reply": "2022-09-17T03:44:26.289651Z",
     "shell.execute_reply.started": "2022-09-17T03:44:25.745869Z"
    }
   },
   "outputs": [
    {
     "name": "stdout",
     "output_type": "stream",
     "text": [
      "Found 201 images belonging to 5 classes.\n",
      "Found 804 images belonging to 5 classes.\n",
      "Found 50 images belonging to 1 classes.\n"
     ]
    }
   ],
   "source": [
    "# Training data for checking accuracy\n",
    "\n",
    "train_data1 = data_gen.flow_from_directory('../input/agriculture-crop-images/crop_images',\n",
    "                             target_size=(150,150),\n",
    "                            batch_size=32)\n",
    "\n",
    "train_data2 = data_gen.flow_from_directory('../input/agriculture-crop-images/kag2',\n",
    "                             target_size=(150,150),\n",
    "                            batch_size=32)\n",
    "\n",
    "train_data3 = data_gen.flow_from_directory('../input/agriculture-crop-images/some_more_images',\n",
    "                             target_size=(150,150),\n",
    "                            batch_size=32)"
   ]
  },
  {
   "cell_type": "code",
   "execution_count": 7,
   "metadata": {
    "execution": {
     "iopub.execute_input": "2022-09-17T03:44:26.293672Z",
     "iopub.status.busy": "2022-09-17T03:44:26.293375Z",
     "iopub.status.idle": "2022-09-17T03:44:26.300715Z",
     "shell.execute_reply": "2022-09-17T03:44:26.299862Z",
     "shell.execute_reply.started": "2022-09-17T03:44:26.293646Z"
    }
   },
   "outputs": [],
   "source": [
    "# Importing libraries for model building\n",
    "\n",
    "from tensorflow.keras.layers import Dense, Conv2D, MaxPool2D, Flatten\n",
    "from tensorflow.keras.models import Sequential"
   ]
  },
  {
   "cell_type": "code",
   "execution_count": 8,
   "metadata": {
    "execution": {
     "iopub.execute_input": "2022-09-17T03:44:26.304206Z",
     "iopub.status.busy": "2022-09-17T03:44:26.303740Z",
     "iopub.status.idle": "2022-09-17T03:44:29.131257Z",
     "shell.execute_reply": "2022-09-17T03:44:29.129524Z",
     "shell.execute_reply.started": "2022-09-17T03:44:26.304180Z"
    }
   },
   "outputs": [
    {
     "name": "stderr",
     "output_type": "stream",
     "text": [
      "2022-09-17 03:44:26.392497: I tensorflow/stream_executor/cuda/cuda_gpu_executor.cc:937] successful NUMA node read from SysFS had negative value (-1), but there must be at least one NUMA node, so returning NUMA node zero\n",
      "2022-09-17 03:44:26.510094: I tensorflow/stream_executor/cuda/cuda_gpu_executor.cc:937] successful NUMA node read from SysFS had negative value (-1), but there must be at least one NUMA node, so returning NUMA node zero\n",
      "2022-09-17 03:44:26.510886: I tensorflow/stream_executor/cuda/cuda_gpu_executor.cc:937] successful NUMA node read from SysFS had negative value (-1), but there must be at least one NUMA node, so returning NUMA node zero\n",
      "2022-09-17 03:44:26.512048: I tensorflow/core/platform/cpu_feature_guard.cc:142] This TensorFlow binary is optimized with oneAPI Deep Neural Network Library (oneDNN) to use the following CPU instructions in performance-critical operations:  AVX2 AVX512F FMA\n",
      "To enable them in other operations, rebuild TensorFlow with the appropriate compiler flags.\n",
      "2022-09-17 03:44:26.512314: I tensorflow/stream_executor/cuda/cuda_gpu_executor.cc:937] successful NUMA node read from SysFS had negative value (-1), but there must be at least one NUMA node, so returning NUMA node zero\n",
      "2022-09-17 03:44:26.513042: I tensorflow/stream_executor/cuda/cuda_gpu_executor.cc:937] successful NUMA node read from SysFS had negative value (-1), but there must be at least one NUMA node, so returning NUMA node zero\n",
      "2022-09-17 03:44:26.513700: I tensorflow/stream_executor/cuda/cuda_gpu_executor.cc:937] successful NUMA node read from SysFS had negative value (-1), but there must be at least one NUMA node, so returning NUMA node zero\n",
      "2022-09-17 03:44:28.673046: I tensorflow/stream_executor/cuda/cuda_gpu_executor.cc:937] successful NUMA node read from SysFS had negative value (-1), but there must be at least one NUMA node, so returning NUMA node zero\n",
      "2022-09-17 03:44:28.673925: I tensorflow/stream_executor/cuda/cuda_gpu_executor.cc:937] successful NUMA node read from SysFS had negative value (-1), but there must be at least one NUMA node, so returning NUMA node zero\n",
      "2022-09-17 03:44:28.674573: I tensorflow/stream_executor/cuda/cuda_gpu_executor.cc:937] successful NUMA node read from SysFS had negative value (-1), but there must be at least one NUMA node, so returning NUMA node zero\n",
      "2022-09-17 03:44:28.675206: I tensorflow/core/common_runtime/gpu/gpu_device.cc:1510] Created device /job:localhost/replica:0/task:0/device:GPU:0 with 15401 MB memory:  -> device: 0, name: Tesla P100-PCIE-16GB, pci bus id: 0000:00:04.0, compute capability: 6.0\n"
     ]
    }
   ],
   "source": [
    "# CNN model generation\n",
    "\n",
    "model = Sequential()\n",
    "model.add(Conv2D(16, (3,3), input_shape=(150,150,3)))\n",
    "model.add(MaxPool2D())\n",
    "model.add(Conv2D(32, (3,3)))\n",
    "model.add(MaxPool2D())\n",
    "model.add(Conv2D(64, (3,3)))\n",
    "model.add(MaxPool2D())\n",
    "model.add(Conv2D(128,(3,3)))\n",
    "model.add(MaxPool2D())\n",
    "model.add(Conv2D(256,(3,3)))\n",
    "model.add(MaxPool2D())\n",
    "model.add(Flatten())\n",
    "model.add(Dense(5, activation='softmax'))\n",
    "\n",
    "model.compile(loss = 'categorical_crossentropy', metrics = ['accuracy'])"
   ]
  },
  {
   "cell_type": "code",
   "execution_count": 9,
   "metadata": {
    "execution": {
     "iopub.execute_input": "2022-09-17T03:44:29.134749Z",
     "iopub.status.busy": "2022-09-17T03:44:29.134226Z",
     "iopub.status.idle": "2022-09-17T03:48:20.959386Z",
     "shell.execute_reply": "2022-09-17T03:48:20.958482Z",
     "shell.execute_reply.started": "2022-09-17T03:44:29.134720Z"
    }
   },
   "outputs": [
    {
     "name": "stderr",
     "output_type": "stream",
     "text": [
      "2022-09-17 03:44:29.698688: I tensorflow/compiler/mlir/mlir_graph_optimization_pass.cc:185] None of the MLIR Optimization Passes are enabled (registered 2)\n"
     ]
    },
    {
     "name": "stdout",
     "output_type": "stream",
     "text": [
      "Epoch 1/25\n"
     ]
    },
    {
     "name": "stderr",
     "output_type": "stream",
     "text": [
      "2022-09-17 03:44:31.625441: I tensorflow/stream_executor/cuda/cuda_dnn.cc:369] Loaded cuDNN version 8005\n"
     ]
    },
    {
     "name": "stdout",
     "output_type": "stream",
     "text": [
      "7/7 [==============================] - 9s 219ms/step - loss: 3.8422 - accuracy: 0.1891\n",
      "Epoch 2/25\n",
      "7/7 [==============================] - 1s 174ms/step - loss: 1.5875 - accuracy: 0.2736\n",
      "Epoch 3/25\n",
      "7/7 [==============================] - 1s 177ms/step - loss: 1.4703 - accuracy: 0.4179\n",
      "Epoch 4/25\n",
      "7/7 [==============================] - 1s 175ms/step - loss: 1.4470 - accuracy: 0.3980\n",
      "Epoch 5/25\n",
      "7/7 [==============================] - 1s 174ms/step - loss: 1.3986 - accuracy: 0.3881\n",
      "Epoch 6/25\n",
      "7/7 [==============================] - 1s 174ms/step - loss: 1.4000 - accuracy: 0.4129\n",
      "Epoch 7/25\n",
      "7/7 [==============================] - 1s 172ms/step - loss: 1.4727 - accuracy: 0.3682\n",
      "Epoch 8/25\n",
      "7/7 [==============================] - 2s 311ms/step - loss: 1.3973 - accuracy: 0.4030\n",
      "Epoch 9/25\n",
      "7/7 [==============================] - 1s 170ms/step - loss: 1.6081 - accuracy: 0.3980\n",
      "Epoch 10/25\n",
      "7/7 [==============================] - 1s 179ms/step - loss: 1.3894 - accuracy: 0.4129\n",
      "Epoch 11/25\n",
      "7/7 [==============================] - 1s 177ms/step - loss: 1.3469 - accuracy: 0.4776\n",
      "Epoch 12/25\n",
      "7/7 [==============================] - 1s 194ms/step - loss: 1.2887 - accuracy: 0.4925\n",
      "Epoch 13/25\n",
      "7/7 [==============================] - 1s 172ms/step - loss: 1.3672 - accuracy: 0.4229\n",
      "Epoch 14/25\n",
      "7/7 [==============================] - 1s 171ms/step - loss: 1.3503 - accuracy: 0.4627\n",
      "Epoch 15/25\n",
      "7/7 [==============================] - 1s 172ms/step - loss: 1.2820 - accuracy: 0.4925\n",
      "Epoch 16/25\n",
      "7/7 [==============================] - 2s 241ms/step - loss: 1.2648 - accuracy: 0.5025\n",
      "Epoch 17/25\n",
      "7/7 [==============================] - 1s 191ms/step - loss: 1.1916 - accuracy: 0.5423\n",
      "Epoch 18/25\n",
      "7/7 [==============================] - 1s 177ms/step - loss: 1.1816 - accuracy: 0.5423\n",
      "Epoch 19/25\n",
      "7/7 [==============================] - 1s 193ms/step - loss: 1.3854 - accuracy: 0.4975\n",
      "Epoch 20/25\n",
      "7/7 [==============================] - 1s 171ms/step - loss: 1.1971 - accuracy: 0.5224\n",
      "Epoch 21/25\n",
      "7/7 [==============================] - 1s 173ms/step - loss: 1.2109 - accuracy: 0.5274\n",
      "Epoch 22/25\n",
      "7/7 [==============================] - 1s 201ms/step - loss: 1.0785 - accuracy: 0.5920\n",
      "Epoch 23/25\n",
      "7/7 [==============================] - 1s 177ms/step - loss: 1.0539 - accuracy: 0.6169\n",
      "Epoch 24/25\n",
      "7/7 [==============================] - 1s 213ms/step - loss: 1.0052 - accuracy: 0.6070\n",
      "Epoch 25/25\n",
      "7/7 [==============================] - 1s 174ms/step - loss: 1.1195 - accuracy: 0.5622\n",
      "Epoch 1/25\n",
      "26/26 [==============================] - 9s 334ms/step - loss: 0.9759 - accuracy: 0.6318\n",
      "Epoch 2/25\n",
      "26/26 [==============================] - 5s 191ms/step - loss: 0.8353 - accuracy: 0.6754\n",
      "Epoch 3/25\n",
      "26/26 [==============================] - 5s 198ms/step - loss: 0.7501 - accuracy: 0.7351\n",
      "Epoch 4/25\n",
      "26/26 [==============================] - 5s 192ms/step - loss: 0.6191 - accuracy: 0.7935\n",
      "Epoch 5/25\n",
      "26/26 [==============================] - 5s 193ms/step - loss: 0.5933 - accuracy: 0.7910\n",
      "Epoch 6/25\n",
      "26/26 [==============================] - 5s 200ms/step - loss: 0.4661 - accuracy: 0.8520\n",
      "Epoch 7/25\n",
      "26/26 [==============================] - 5s 208ms/step - loss: 0.4593 - accuracy: 0.8607\n",
      "Epoch 8/25\n",
      "26/26 [==============================] - 5s 197ms/step - loss: 0.2962 - accuracy: 0.9005\n",
      "Epoch 9/25\n",
      "26/26 [==============================] - 5s 190ms/step - loss: 0.3647 - accuracy: 0.8905\n",
      "Epoch 10/25\n",
      "26/26 [==============================] - 5s 200ms/step - loss: 0.2354 - accuracy: 0.9204\n",
      "Epoch 11/25\n",
      "26/26 [==============================] - 5s 188ms/step - loss: 0.1945 - accuracy: 0.9391\n",
      "Epoch 12/25\n",
      "26/26 [==============================] - 5s 201ms/step - loss: 0.2022 - accuracy: 0.9515\n",
      "Epoch 13/25\n",
      "26/26 [==============================] - 6s 214ms/step - loss: 0.1662 - accuracy: 0.9502\n",
      "Epoch 14/25\n",
      "26/26 [==============================] - 5s 198ms/step - loss: 0.1308 - accuracy: 0.9565\n",
      "Epoch 15/25\n",
      "26/26 [==============================] - 5s 188ms/step - loss: 0.1583 - accuracy: 0.9527\n",
      "Epoch 16/25\n",
      "26/26 [==============================] - 5s 200ms/step - loss: 0.1169 - accuracy: 0.9714\n",
      "Epoch 17/25\n",
      "26/26 [==============================] - 5s 188ms/step - loss: 0.1060 - accuracy: 0.9664\n",
      "Epoch 18/25\n",
      "26/26 [==============================] - 5s 198ms/step - loss: 0.1013 - accuracy: 0.9639\n",
      "Epoch 19/25\n",
      "26/26 [==============================] - 5s 206ms/step - loss: 0.0744 - accuracy: 0.9764\n",
      "Epoch 20/25\n",
      "26/26 [==============================] - 5s 195ms/step - loss: 0.1123 - accuracy: 0.9652\n",
      "Epoch 21/25\n",
      "26/26 [==============================] - 5s 192ms/step - loss: 0.0302 - accuracy: 0.9950\n",
      "Epoch 22/25\n",
      "26/26 [==============================] - 5s 202ms/step - loss: 0.1738 - accuracy: 0.9552\n",
      "Epoch 23/25\n",
      "26/26 [==============================] - 5s 187ms/step - loss: 0.0182 - accuracy: 1.0000\n",
      "Epoch 24/25\n",
      "26/26 [==============================] - 5s 201ms/step - loss: 0.0927 - accuracy: 0.9714\n",
      "Epoch 25/25\n",
      "26/26 [==============================] - 6s 208ms/step - loss: 0.0539 - accuracy: 0.9801\n",
      "Epoch 1/25\n",
      "2/2 [==============================] - 2s 1s/step - loss: 33.6965 - accuracy: 0.2400\n",
      "Epoch 2/25\n",
      "2/2 [==============================] - 2s 1s/step - loss: 79.0282 - accuracy: 0.5600\n",
      "Epoch 3/25\n",
      "2/2 [==============================] - 2s 308ms/step - loss: 427.6457 - accuracy: 0.5200\n",
      "Epoch 4/25\n",
      "2/2 [==============================] - 2s 1s/step - loss: 3431.5354 - accuracy: 0.3600\n",
      "Epoch 5/25\n",
      "2/2 [==============================] - 2s 594ms/step - loss: 7167.9736 - accuracy: 0.0000e+00\n",
      "Epoch 6/25\n",
      "2/2 [==============================] - 2s 823ms/step - loss: 17666.3086 - accuracy: 0.0000e+00\n",
      "Epoch 7/25\n",
      "2/2 [==============================] - 2s 649ms/step - loss: 33131.4102 - accuracy: 0.0000e+00\n",
      "Epoch 8/25\n",
      "2/2 [==============================] - 2s 1s/step - loss: 75534.6797 - accuracy: 0.0000e+00\n",
      "Epoch 9/25\n",
      "2/2 [==============================] - 2s 1s/step - loss: 184455.2812 - accuracy: 0.0000e+00\n",
      "Epoch 10/25\n",
      "2/2 [==============================] - 2s 666ms/step - loss: 176463.0000 - accuracy: 0.1800\n",
      "Epoch 11/25\n",
      "2/2 [==============================] - 2s 737ms/step - loss: 236081.6875 - accuracy: 0.0000e+00\n",
      "Epoch 12/25\n",
      "2/2 [==============================] - 2s 2s/step - loss: 428420.1875 - accuracy: 0.1400\n",
      "Epoch 13/25\n",
      "2/2 [==============================] - 2s 1s/step - loss: 424808.1250 - accuracy: 0.0400\n",
      "Epoch 14/25\n",
      "2/2 [==============================] - 2s 1s/step - loss: 732808.0625 - accuracy: 0.1400\n",
      "Epoch 15/25\n",
      "2/2 [==============================] - 2s 391ms/step - loss: 1146410.1250 - accuracy: 0.0200\n",
      "Epoch 16/25\n",
      "2/2 [==============================] - 2s 850ms/step - loss: 1545740.5000 - accuracy: 0.4000\n",
      "Epoch 17/25\n",
      "2/2 [==============================] - 2s 352ms/step - loss: 1706733.1250 - accuracy: 0.0800\n",
      "Epoch 18/25\n",
      "2/2 [==============================] - 2s 777ms/step - loss: 2790338.0000 - accuracy: 0.1000\n",
      "Epoch 19/25\n",
      "2/2 [==============================] - 2s 1s/step - loss: 3123575.7500 - accuracy: 0.5200\n",
      "Epoch 20/25\n",
      "2/2 [==============================] - 2s 674ms/step - loss: 3795081.5000 - accuracy: 0.0000e+00\n",
      "Epoch 21/25\n",
      "2/2 [==============================] - 2s 1s/step - loss: 4515253.0000 - accuracy: 0.1600\n",
      "Epoch 22/25\n",
      "2/2 [==============================] - 2s 1s/step - loss: 5659415.0000 - accuracy: 0.5200\n",
      "Epoch 23/25\n",
      "2/2 [==============================] - 2s 974ms/step - loss: 5855006.5000 - accuracy: 0.0000e+00\n",
      "Epoch 24/25\n",
      "2/2 [==============================] - 2s 440ms/step - loss: 6713680.5000 - accuracy: 0.1400\n",
      "Epoch 25/25\n",
      "2/2 [==============================] - 2s 1s/step - loss: 6025420.0000 - accuracy: 0.2600\n"
     ]
    },
    {
     "data": {
      "text/plain": [
       "<keras.callbacks.History at 0x7f705ce499d0>"
      ]
     },
     "execution_count": 9,
     "metadata": {},
     "output_type": "execute_result"
    }
   ],
   "source": [
    "# CNN model training\n",
    "\n",
    "model.fit(train_data1,epochs=25)\n",
    "model.fit(train_data2,epochs=25)\n",
    "model.fit(train_data3,epochs=25)"
   ]
  },
  {
   "cell_type": "code",
   "execution_count": 10,
   "metadata": {
    "execution": {
     "iopub.execute_input": "2022-09-17T03:48:20.961244Z",
     "iopub.status.busy": "2022-09-17T03:48:20.960900Z",
     "iopub.status.idle": "2022-09-17T03:48:20.968634Z",
     "shell.execute_reply": "2022-09-17T03:48:20.967560Z",
     "shell.execute_reply.started": "2022-09-17T03:48:20.961210Z"
    }
   },
   "outputs": [
    {
     "name": "stdout",
     "output_type": "stream",
     "text": [
      "Model: \"sequential\"\n",
      "_________________________________________________________________\n",
      "Layer (type)                 Output Shape              Param #   \n",
      "=================================================================\n",
      "conv2d (Conv2D)              (None, 148, 148, 16)      448       \n",
      "_________________________________________________________________\n",
      "max_pooling2d (MaxPooling2D) (None, 74, 74, 16)        0         \n",
      "_________________________________________________________________\n",
      "conv2d_1 (Conv2D)            (None, 72, 72, 32)        4640      \n",
      "_________________________________________________________________\n",
      "max_pooling2d_1 (MaxPooling2 (None, 36, 36, 32)        0         \n",
      "_________________________________________________________________\n",
      "conv2d_2 (Conv2D)            (None, 34, 34, 64)        18496     \n",
      "_________________________________________________________________\n",
      "max_pooling2d_2 (MaxPooling2 (None, 17, 17, 64)        0         \n",
      "_________________________________________________________________\n",
      "conv2d_3 (Conv2D)            (None, 15, 15, 128)       73856     \n",
      "_________________________________________________________________\n",
      "max_pooling2d_3 (MaxPooling2 (None, 7, 7, 128)         0         \n",
      "_________________________________________________________________\n",
      "conv2d_4 (Conv2D)            (None, 5, 5, 256)         295168    \n",
      "_________________________________________________________________\n",
      "max_pooling2d_4 (MaxPooling2 (None, 2, 2, 256)         0         \n",
      "_________________________________________________________________\n",
      "flatten (Flatten)            (None, 1024)              0         \n",
      "_________________________________________________________________\n",
      "dense (Dense)                (None, 5)                 5125      \n",
      "=================================================================\n",
      "Total params: 397,733\n",
      "Trainable params: 397,733\n",
      "Non-trainable params: 0\n",
      "_________________________________________________________________\n"
     ]
    }
   ],
   "source": [
    "model.summary()"
   ]
  },
  {
   "cell_type": "code",
   "execution_count": 11,
   "metadata": {
    "execution": {
     "iopub.execute_input": "2022-09-17T03:48:20.970751Z",
     "iopub.status.busy": "2022-09-17T03:48:20.970109Z",
     "iopub.status.idle": "2022-09-17T03:48:21.022296Z",
     "shell.execute_reply": "2022-09-17T03:48:21.021442Z",
     "shell.execute_reply.started": "2022-09-17T03:48:20.970716Z"
    }
   },
   "outputs": [],
   "source": [
    "model.save('agri_img.h5')"
   ]
  },
  {
   "cell_type": "code",
   "execution_count": null,
   "metadata": {},
   "outputs": [],
   "source": []
  }
 ],
 "metadata": {
  "kernelspec": {
   "display_name": "Python 3 (ipykernel)",
   "language": "python",
   "name": "python3"
  },
  "language_info": {
   "codemirror_mode": {
    "name": "ipython",
    "version": 3
   },
   "file_extension": ".py",
   "mimetype": "text/x-python",
   "name": "python",
   "nbconvert_exporter": "python",
   "pygments_lexer": "ipython3",
   "version": "3.9.12"
  }
 },
 "nbformat": 4,
 "nbformat_minor": 4
}
