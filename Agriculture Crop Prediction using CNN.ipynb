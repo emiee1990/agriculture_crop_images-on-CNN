{
 "cells": [
  {
   "cell_type": "code",
   "execution_count": 6,
   "metadata": {
    "_cell_guid": "b1076dfc-b9ad-4769-8c92-a6c4dae69d19",
    "_uuid": "8f2839f25d086af736a60e9eeb907d3b93b6e0e5",
    "execution": {
     "iopub.execute_input": "2022-02-26T05:26:05.141733Z",
     "iopub.status.busy": "2022-02-26T05:26:05.141393Z",
     "iopub.status.idle": "2022-02-26T05:26:05.152156Z",
     "shell.execute_reply": "2022-02-26T05:26:05.151168Z",
     "shell.execute_reply.started": "2022-02-26T05:26:05.141699Z"
    }
   },
   "outputs": [],
   "source": [
    "# Importing required libraries.\n",
    "\n",
    "import numpy as np\n",
    "import pandas as pd \n",
    "import os\n"
   ]
  },
  {
   "cell_type": "code",
   "execution_count": 7,
   "metadata": {
    "execution": {
     "iopub.execute_input": "2022-02-26T05:26:05.154826Z",
     "iopub.status.busy": "2022-02-26T05:26:05.154458Z",
     "iopub.status.idle": "2022-02-26T05:26:05.164696Z",
     "shell.execute_reply": "2022-02-26T05:26:05.163261Z",
     "shell.execute_reply.started": "2022-02-26T05:26:05.154793Z"
    }
   },
   "outputs": [],
   "source": [
    "# Importing crop images from location.\n",
    "\n",
    "path1=os.listdir('../Crop Dataset/agriculture-crop-images/crop_images')\n"
   ]
  },
  {
   "cell_type": "code",
   "execution_count": 8,
   "metadata": {
    "execution": {
     "iopub.execute_input": "2022-02-26T05:26:05.166013Z",
     "iopub.status.busy": "2022-02-26T05:26:05.165766Z",
     "iopub.status.idle": "2022-02-26T05:26:05.179350Z",
     "shell.execute_reply": "2022-02-26T05:26:05.178743Z",
     "shell.execute_reply.started": "2022-02-26T05:26:05.165981Z"
    }
   },
   "outputs": [],
   "source": [
    "# Importing tensorflow for image procesing\n",
    "\n",
    "from tensorflow.keras.preprocessing.image import ImageDataGenerator"
   ]
  },
  {
   "cell_type": "code",
   "execution_count": 9,
   "metadata": {
    "execution": {
     "iopub.execute_input": "2022-02-26T05:26:05.185336Z",
     "iopub.status.busy": "2022-02-26T05:26:05.181189Z",
     "iopub.status.idle": "2022-02-26T05:26:05.189374Z",
     "shell.execute_reply": "2022-02-26T05:26:05.188763Z",
     "shell.execute_reply.started": "2022-02-26T05:26:05.185300Z"
    }
   },
   "outputs": [],
   "source": [
    "# Data generation and formatting the data.\n",
    "\n",
    "data_gen=ImageDataGenerator(shear_range=0.2,zoom_range=0.2,horizontal_flip=True,rescale=1/255)"
   ]
  },
  {
   "cell_type": "code",
   "execution_count": 19,
   "metadata": {
    "execution": {
     "iopub.execute_input": "2022-02-26T05:29:30.470774Z",
     "iopub.status.busy": "2022-02-26T05:29:30.470346Z",
     "iopub.status.idle": "2022-02-26T05:29:30.813593Z",
     "shell.execute_reply": "2022-02-26T05:29:30.812769Z",
     "shell.execute_reply.started": "2022-02-26T05:29:30.470738Z"
    }
   },
   "outputs": [],
   "source": [
    "# Training data for checking accuracy\n",
    "\n",
    "train_data1=data_gen.flow_from_directory('../input/agriculture-crop-images/crop_images',target_size=(150,150))\n",
    "train_data2=data_gen.flow_from_directory('../input/agriculture-crop-images/kag2',target_size=(150,150))\n",
    "train_data3=data_gen.flow_from_directory('../input/agriculture-crop-images/some_more_images/some_more_images',target_size=(150,150))"
   ]
  },
  {
   "cell_type": "code",
   "execution_count": 20,
   "metadata": {
    "execution": {
     "iopub.execute_input": "2022-02-26T05:29:35.267386Z",
     "iopub.status.busy": "2022-02-26T05:29:35.266831Z",
     "iopub.status.idle": "2022-02-26T05:29:35.271633Z",
     "shell.execute_reply": "2022-02-26T05:29:35.270938Z",
     "shell.execute_reply.started": "2022-02-26T05:29:35.267345Z"
    }
   },
   "outputs": [],
   "source": [
    "# Importing libraries for model building\n",
    "\n",
    "from tensorflow.keras.models import Sequential\n",
    "from tensorflow.keras.layers import Dense,Conv2D,Flatten,MaxPool2D"
   ]
  },
  {
   "cell_type": "code",
   "execution_count": 21,
   "metadata": {
    "execution": {
     "iopub.execute_input": "2022-02-26T05:29:37.073807Z",
     "iopub.status.busy": "2022-02-26T05:29:37.073077Z",
     "iopub.status.idle": "2022-02-26T05:29:37.141320Z",
     "shell.execute_reply": "2022-02-26T05:29:37.140662Z",
     "shell.execute_reply.started": "2022-02-26T05:29:37.073766Z"
    }
   },
   "outputs": [],
   "source": [
    "# CNN model generation\n",
    "\n",
    "model=Sequential()\n",
    "model.add(Conv2D(16,(3,3),padding='same',activation='relu',input_shape=(150,150,3)))\n",
    "model.add(MaxPool2D())\n",
    "model.add(Conv2D(32,(3,3),padding='same',activation='relu'))\n",
    "model.add(MaxPool2D())\n",
    "model.add(Conv2D(64,(3,3),padding='same',activation='relu'))\n",
    "model.add(MaxPool2D())\n",
    "model.add(Conv2D(128,(3,3),padding='same',activation='relu'))\n",
    "model.add(MaxPool2D())\n",
    "model.add(Flatten())\n",
    "model.add(Dense(5,activation='Softmax'))\n",
    "model.compile(loss='categorical_crossentropy',metrics=['accuracy'])"
   ]
  },
  {
   "cell_type": "code",
   "execution_count": 23,
   "metadata": {
    "execution": {
     "iopub.execute_input": "2022-02-26T05:37:22.441810Z",
     "iopub.status.busy": "2022-02-26T05:37:22.441532Z",
     "iopub.status.idle": "2022-02-26T05:40:40.012138Z",
     "shell.execute_reply": "2022-02-26T05:40:40.011438Z",
     "shell.execute_reply.started": "2022-02-26T05:37:22.441779Z"
    }
   },
   "outputs": [],
   "source": [
    "# CNN model training\n",
    "\n",
    "model.fit(train_data1,epochs=25)\n",
    "model.fit(train_data2,epochs=25)\n",
    "model.fit(train_data3,epochs=25)"
   ]
  },
  {
   "cell_type": "code",
   "execution_count": null,
   "metadata": {
    "execution": {
     "iopub.status.busy": "2022-02-26T05:26:05.233118Z",
     "iopub.status.idle": "2022-02-26T05:26:05.233579Z",
     "shell.execute_reply": "2022-02-26T05:26:05.233406Z",
     "shell.execute_reply.started": "2022-02-26T05:26:05.233386Z"
    }
   },
   "outputs": [],
   "source": [
    "model.save('crop_data.h5')"
   ]
  }
 ],
 "metadata": {
  "kernelspec": {
   "display_name": "Python 3 (ipykernel)",
   "language": "python",
   "name": "python3"
  },
  "language_info": {
   "codemirror_mode": {
    "name": "ipython",
    "version": 3
   },
   "file_extension": ".py",
   "mimetype": "text/x-python",
   "name": "python",
   "nbconvert_exporter": "python",
   "pygments_lexer": "ipython3",
   "version": "3.9.12"
  }
 },
 "nbformat": 4,
 "nbformat_minor": 4
}
